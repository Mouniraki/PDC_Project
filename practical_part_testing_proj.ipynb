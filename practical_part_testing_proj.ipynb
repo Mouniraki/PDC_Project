{
 "cells": [
  {
   "cell_type": "markdown",
   "metadata": {},
   "source": [
    "# Code for practical part of PDC Project"
   ]
  },
  {
   "cell_type": "markdown",
   "metadata": {},
   "source": [
    "Hard limits to respect :\n",
    "- Codewords have to be in the space [-3/2, 3/2] x [-3/2, 3/2] -> **limits the energy per symbol**\n",
    "- The average energy of the vector **X** should be <= 1 -> **also limits the energy per symbol** \n",
    "- The dimension of the encoded vector **X** should not exceed n <= 100 -> **limits the number of symbols we can send**"
   ]
  },
  {
   "cell_type": "code",
   "execution_count": 100,
   "metadata": {},
   "outputs": [],
   "source": [
    "### IS THE ENERGY PER SYMBOL A HYPER-PARAMETER ???\n",
    "import numpy as np\n",
    "import scipy as sp"
   ]
  },
  {
   "cell_type": "markdown",
   "metadata": {},
   "source": [
    "## Utility functions to help code the encoder/decoder"
   ]
  },
  {
   "cell_type": "code",
   "execution_count": 101,
   "metadata": {},
   "outputs": [],
   "source": [
    "# Computes the value of the Q-Function\n",
    "def q_function(x):\n",
    "    return (1/2) * sp.erfc(x/np.sqrt(2))\n",
    "\n",
    "# Gets every possible codeword lengths for which the length divides the total length of the original bitstring\n",
    "def compute_codeword_lengths(bit_str):\n",
    "    n = len(bit_str)\n",
    "    return [i for i in range(1, n+1) if n % i == 0]\n",
    "\n",
    "# Gets the whole alphabet from a codeword length\n",
    "def get_alphabet_from_codeword_length(length):\n",
    "    return [f'{i:0{length}b}' for i in range(0, 2**length)]\n",
    "\n",
    "# Performs a conversion from ASCII string to binary symbols\n",
    "def ascii_str_to_binary(ascii_str):\n",
    "    return str(''.join(format(ord(i), '08b') for i in ascii_str))\n",
    "\n",
    "def split_bit_str(bit_str, chunk_size):\n",
    "    return [bit_str[i:i+chunk_size] for i in range(0, len(bit_str), chunk_size)]\n",
    "\n",
    "\n",
    "# # Gets the encoded alphabet\n",
    "# def encode_alphabet(energy_per_symbol, alphabet, encoder):\n",
    "#     return [encoder(energy_per_symbol, i, alphabet) for i in alphabet]\n"
   ]
  },
  {
   "cell_type": "markdown",
   "metadata": {},
   "source": [
    "## Functions for the types of encodings"
   ]
  },
  {
   "cell_type": "markdown",
   "metadata": {},
   "source": [
    "### m-PSK"
   ]
  },
  {
   "cell_type": "code",
   "execution_count": 102,
   "metadata": {},
   "outputs": [],
   "source": [
    "# Computes the probability of error for symbol i with PSK encoding (P_e(i) == P_e here !)\n",
    "def error_m_psk(i, m, energy_per_symbol, noise_var = 10**(-2.65)):\n",
    "    inner_part = lambda theta: np.exp(-(np.sin(np.pi/m)**2)**2 / np.sin(theta) * (energy_per_symbol/(2*(noise_var**2))))\n",
    "    return (1/np.pi) * sp.quad(inner_part, 0, np.pi - (np.pi / m))\n",
    "\n",
    "# Performs the m-PSK encoding\n",
    "def m_psk_encoder(energy_per_symbol, codeword, alphabet):\n",
    "    k = alphabet.index(codeword)\n",
    "    m = len(alphabet)\n",
    "    return np.sqrt(energy_per_symbol) * np.exp(2j * np.pi * (k/m))"
   ]
  },
  {
   "cell_type": "markdown",
   "metadata": {},
   "source": [
    "### QAM"
   ]
  },
  {
   "cell_type": "code",
   "execution_count": 103,
   "metadata": {},
   "outputs": [],
   "source": [
    "# Computes the probability of error for symbol i with QAM encoding (P_e(i) == P_e here !)\n",
    "def error_qam(i, d, m, energy_per_symbol, noise_var = 10**(-2.65)):\n",
    "    func = q_function(d/(2*noise_var))\n",
    "    return 2*func - func**2\n",
    "\n",
    "# Performs the QAM encoding\n",
    "def qam_encoder(energy_per_symbol, codeword, alphabet):\n",
    "    return"
   ]
  },
  {
   "cell_type": "markdown",
   "metadata": {},
   "source": [
    "## Encoder part"
   ]
  },
  {
   "cell_type": "code",
   "execution_count": 104,
   "metadata": {},
   "outputs": [],
   "source": [
    "def encode_string(raw_str, chunk_size, energy_per_symbol, theta_estimator_batch_size, encoder):\n",
    "    if theta_estimator_batch_size >= 100:\n",
    "        raise OverflowError(\"ERROR: The batch of dummy samples cannot be equal or exceed 100 symbols.\") \n",
    "    bit_str = ascii_str_to_binary(raw_str)\n",
    "    splitted_bit_str = split_bit_str(bit_str, chunk_size)\n",
    "    splitted_bit_str_size = len(splitted_bit_str)\n",
    "    if splitted_bit_str_size > 100:\n",
    "        raise OverflowError(\"ERROR: The string without the dummy symbols cannot exceed 100 symbols.\") \n",
    "\n",
    "    if splitted_bit_str_size + theta_estimator_batch_size > 100:\n",
    "        theta_estimator_batch_size = 100 - splitted_bit_str_size\n",
    "\n",
    "    alphabet = get_alphabet_from_codeword_length(chunk_size)\n",
    "    theta_estimator_batch = np.full((theta_estimator_batch_size, 1), alphabet[0])\n",
    "    full_str = np.append(theta_estimator_batch, splitted_bit_str)\n",
    "    return np.array([encoder(energy_per_symbol, codeword, alphabet) for codeword in full_str])"
   ]
  },
  {
   "cell_type": "markdown",
   "metadata": {},
   "source": [
    "## Channel part (given)"
   ]
  },
  {
   "cell_type": "code",
   "execution_count": 105,
   "metadata": {},
   "outputs": [],
   "source": [
    "def channel(sent_signal):\n",
    "    s = np.mean(sent_signal**2)\n",
    "    if s <= 1:\n",
    "        s = 1\n",
    "    noise_power = (10**(-2.65))*s\n",
    "    shift = np.exp(-2j*np.pi*np.random.rand())\n",
    "    sent_signal = sent_signal*shift\n",
    "    noise_std = np.sqrt(noise_power/2)\n",
    "    rcv_signal = sent_signal + noise_std*np.random.randn(len(sent_signal)) + 1j*noise_std*np.random.randn(len(sent_signal))\n",
    "    return rcv_signal"
   ]
  },
  {
   "cell_type": "markdown",
   "metadata": {},
   "source": [
    "## Decoder part"
   ]
  },
  {
   "cell_type": "code",
   "execution_count": 106,
   "metadata": {},
   "outputs": [],
   "source": [
    "def decode_str(noisy_str, decoder, n_dummy_symbols):\n",
    "    dummy_symbols = noisy_str[0:n_dummy_symbols]\n",
    "    phase = np.mean(dummy_symbols) # TODO: CHECK HOW TO ISOLATE THE ANGLE FROM THE EXPONENTIAL IN THE EQUATION WITH THE MEAN\n",
    "    return"
   ]
  },
  {
   "cell_type": "markdown",
   "metadata": {},
   "source": [
    "## Putting everything together"
   ]
  },
  {
   "cell_type": "code",
   "execution_count": 132,
   "metadata": {},
   "outputs": [
    {
     "name": "stdout",
     "output_type": "stream",
     "text": [
      "[ 1.0000000e+00+0.0000000e+00j  1.0000000e+00+0.0000000e+00j\n",
      "  1.0000000e+00+0.0000000e+00j  1.0000000e+00+0.0000000e+00j\n",
      "  1.0000000e+00+0.0000000e+00j  1.0000000e+00+0.0000000e+00j\n",
      "  1.0000000e+00+0.0000000e+00j  1.0000000e+00+0.0000000e+00j\n",
      "  1.0000000e+00+0.0000000e+00j  1.0000000e+00+0.0000000e+00j\n",
      "  1.0000000e+00+0.0000000e+00j  1.0000000e+00+0.0000000e+00j\n",
      "  1.0000000e+00+0.0000000e+00j  1.0000000e+00+0.0000000e+00j\n",
      "  1.0000000e+00+0.0000000e+00j  1.0000000e+00+0.0000000e+00j\n",
      "  1.0000000e+00+0.0000000e+00j  1.0000000e+00+0.0000000e+00j\n",
      "  1.0000000e+00+0.0000000e+00j  1.0000000e+00+0.0000000e+00j\n",
      "  1.0000000e+00+0.0000000e+00j  1.0000000e+00+0.0000000e+00j\n",
      "  1.0000000e+00+0.0000000e+00j  1.0000000e+00+0.0000000e+00j\n",
      "  1.0000000e+00+0.0000000e+00j  1.0000000e+00+0.0000000e+00j\n",
      "  1.0000000e+00+0.0000000e+00j  1.0000000e+00+0.0000000e+00j\n",
      "  1.0000000e+00+0.0000000e+00j  1.0000000e+00+0.0000000e+00j\n",
      "  1.0000000e+00+0.0000000e+00j  1.0000000e+00+0.0000000e+00j\n",
      "  1.0000000e+00+0.0000000e+00j  1.0000000e+00+0.0000000e+00j\n",
      "  1.0000000e+00+0.0000000e+00j  1.0000000e+00+0.0000000e+00j\n",
      "  6.1232340e-17+1.0000000e+00j  1.0000000e+00+0.0000000e+00j\n",
      " -1.0000000e+00+1.2246468e-16j  1.0000000e+00+0.0000000e+00j\n",
      "  6.1232340e-17+1.0000000e+00j  1.0000000e+00+0.0000000e+00j\n",
      "  6.1232340e-17+1.0000000e+00j  6.1232340e-17+1.0000000e+00j\n",
      "  6.1232340e-17+1.0000000e+00j  1.0000000e+00+0.0000000e+00j\n",
      " -1.8369702e-16-1.0000000e+00j  1.0000000e+00+0.0000000e+00j\n",
      "  6.1232340e-17+1.0000000e+00j  1.0000000e+00+0.0000000e+00j\n",
      " -1.8369702e-16-1.0000000e+00j  1.0000000e+00+0.0000000e+00j\n",
      "  6.1232340e-17+1.0000000e+00j  1.0000000e+00+0.0000000e+00j\n",
      " -1.8369702e-16-1.0000000e+00j -1.8369702e-16-1.0000000e+00j\n",
      "  6.1232340e-17+1.0000000e+00j  6.1232340e-17+1.0000000e+00j\n",
      "  6.1232340e-17+1.0000000e+00j -1.8369702e-16-1.0000000e+00j\n",
      "  6.1232340e-17+1.0000000e+00j  1.0000000e+00+0.0000000e+00j\n",
      " -1.8369702e-16-1.0000000e+00j -1.8369702e-16-1.0000000e+00j\n",
      "  6.1232340e-17+1.0000000e+00j  6.1232340e-17+1.0000000e+00j\n",
      "  1.0000000e+00+0.0000000e+00j -1.0000000e+00+1.2246468e-16j\n",
      "  6.1232340e-17+1.0000000e+00j  1.0000000e+00+0.0000000e+00j\n",
      " -1.8369702e-16-1.0000000e+00j  1.0000000e+00+0.0000000e+00j\n",
      "  6.1232340e-17+1.0000000e+00j  1.0000000e+00+0.0000000e+00j\n",
      "  6.1232340e-17+1.0000000e+00j  1.0000000e+00+0.0000000e+00j\n",
      "  6.1232340e-17+1.0000000e+00j  1.0000000e+00+0.0000000e+00j\n",
      " -1.8369702e-16-1.0000000e+00j  6.1232340e-17+1.0000000e+00j\n",
      "  6.1232340e-17+1.0000000e+00j  6.1232340e-17+1.0000000e+00j\n",
      " -1.0000000e+00+1.2246468e-16j  6.1232340e-17+1.0000000e+00j\n",
      "  6.1232340e-17+1.0000000e+00j  1.0000000e+00+0.0000000e+00j\n",
      " -1.8369702e-16-1.0000000e+00j  1.0000000e+00+0.0000000e+00j\n",
      "  6.1232340e-17+1.0000000e+00j  1.0000000e+00+0.0000000e+00j\n",
      " -1.8369702e-16-1.0000000e+00j -1.8369702e-16-1.0000000e+00j\n",
      "  6.1232340e-17+1.0000000e+00j  6.1232340e-17+1.0000000e+00j\n",
      "  6.1232340e-17+1.0000000e+00j -1.0000000e+00+1.2246468e-16j\n",
      "  6.1232340e-17+1.0000000e+00j  1.0000000e+00+0.0000000e+00j\n",
      "  6.1232340e-17+1.0000000e+00j  6.1232340e-17+1.0000000e+00j]\n",
      "\n",
      "[ 0.04999967-0.995477j    0.03633144-0.99218761j  0.06361909-0.98325585j\n",
      "  0.086021  -1.0051625j   0.10834957-1.00096615j -0.03292969-0.95233104j\n",
      "  0.07514748-1.01684195j  0.08808286-1.03425666j  0.03948764-1.02526751j\n",
      "  0.04015602-1.01541414j  0.1252774 -1.00006504j  0.05743118-0.99464128j\n",
      "  0.04119924-1.05853988j  0.01622546-0.99970893j -0.00877027-1.02308499j\n",
      "  0.01497363-1.00271313j  0.04552513-0.98960606j  0.04243104-0.98340564j\n",
      "  0.06493624-1.00497868j  0.02977248-1.0101129j   0.0646412 -0.99337002j\n",
      "  0.1051879 -1.01083496j  0.01902085-1.00125693j  0.04755177-0.96881225j\n",
      "  0.04550766-1.03185487j  0.02856531-1.06325906j  0.05249935-0.99843125j\n",
      "  0.09878553-1.00733274j  0.09021309-0.99758984j  0.07825416-0.98500113j\n",
      "  0.04166611-0.96985878j  0.08982036-0.98180027j -0.01445214-0.9597931j\n",
      "  0.04881491-1.0107827j   0.07939466-0.98412037j  0.01968369-1.00307678j\n",
      "  0.96201123+0.06823538j  0.09454438-0.97031466j -0.06154422+1.00039045j\n",
      "  0.05499256-0.9230626j   1.02213466+0.0429835j   0.05342874-1.02450904j\n",
      "  1.0003535 +0.05429483j  0.99293263+0.01243421j  0.93110339+0.01935868j\n",
      "  0.01908567-0.98026569j -0.97287403-0.05319218j  0.0533844 -1.00183714j\n",
      "  1.01278736+0.08153781j  0.04300548-0.99153933j -0.97240263-0.04920912j\n",
      "  0.06607045-0.93887752j  1.01809411+0.00165082j  0.0726074 -0.97185114j\n",
      " -0.94325658-0.10034785j -0.98380712-0.01964492j  1.03849923+0.07645972j\n",
      "  0.98677217+0.06957922j  0.96171679+0.03672734j -0.98381101-0.04632484j\n",
      "  0.93952198+0.04693666j  0.06334776-1.01581164j -1.00893994-0.09043128j\n",
      " -1.01748502-0.06474146j  0.96109171+0.0404747j   0.99655039+0.08004585j\n",
      "  0.07677667-0.97725091j  0.00612654+1.01647129j  0.99389876+0.03347444j\n",
      "  0.0180158 -1.03422476j -1.01688832-0.06948465j  0.04561636-0.97475061j\n",
      "  1.02265512+0.07897025j  0.05187776-1.01879438j  1.02156281+0.04192264j\n",
      "  0.10316105-0.97734983j  1.04201426+0.07309368j  0.07215493-0.93417505j\n",
      " -1.00350531-0.03872332j  0.96735601+0.07470331j  0.9932867 +0.07567838j\n",
      "  0.98494155+0.09081978j -0.05333205+1.01537956j  0.94450867+0.05296635j\n",
      "  1.03451333+0.02148576j  0.05851733-0.97813653j -1.05875974-0.0445716j\n",
      "  0.07997687-0.99421088j  0.97732373+0.05410813j  0.04961501-1.01493366j\n",
      " -1.0094718 -0.03789905j -0.99474382-0.05198817j  0.96117204+0.06297647j\n",
      "  1.01084818+0.12993432j  1.03373605+0.05009386j -0.08651931+0.93383742j\n",
      "  0.97918461+0.10458546j  0.0323546 -0.94568994j  1.08026764+0.05794397j\n",
      "  0.93459321+0.0200888j ]\n"
     ]
    }
   ],
   "source": [
    "try:\n",
    "    encoded_str = encode_string(\"HELLOWORLDMYLOVEWHATTHEHELL\", 2, 1, 95, m_psk_encoder)\n",
    "    # decoded_str = decode_str(decoder_str)\n",
    "    # print(decoded_str)\n",
    "except OverflowError as ovferr :\n",
    "    print(ovferr)\n",
    "    raise\n",
    "else:\n",
    "    print(encoded_str)\n",
    "    print()\n",
    "    noisy_result = channel(encoded_str)\n",
    "    print(noisy_result)\n"
   ]
  }
 ],
 "metadata": {
  "interpreter": {
   "hash": "c6e4e9f98eb68ad3b7c296f83d20e6de614cb42e90992a65aa266555a3137d0d"
  },
  "kernelspec": {
   "display_name": "Python 3.9.10 ('base')",
   "language": "python",
   "name": "python3"
  },
  "language_info": {
   "codemirror_mode": {
    "name": "ipython",
    "version": 3
   },
   "file_extension": ".py",
   "mimetype": "text/x-python",
   "name": "python",
   "nbconvert_exporter": "python",
   "pygments_lexer": "ipython3",
   "version": "3.9.10"
  },
  "orig_nbformat": 4
 },
 "nbformat": 4,
 "nbformat_minor": 2
}
