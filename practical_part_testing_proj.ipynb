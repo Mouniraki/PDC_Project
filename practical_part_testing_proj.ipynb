{
 "cells": [
  {
   "cell_type": "markdown",
   "metadata": {},
   "source": [
    "# Code for practical part of PDC Project"
   ]
  },
  {
   "cell_type": "markdown",
   "metadata": {},
   "source": [
    "Hard limits to respect :\n",
    "- Codewords have to be in the space [-3/2, 3/2] x [-3/2, 3/2] -> **limits the energy per symbol**\n",
    "- The average energy of the vector **X** should be <= 1 -> **also limits the energy per symbol** \n",
    "- The dimension of the encoded vector **X** should not exceed n <= 100 -> **limits the number of symbols we can send**"
   ]
  },
  {
   "cell_type": "code",
   "execution_count": 100,
   "metadata": {},
   "outputs": [],
   "source": [
    "### IS THE ENERGY PER SYMBOL A HYPER-PARAMETER ???\n",
    "import numpy as np\n",
    "import scipy as sp"
   ]
  },
  {
   "cell_type": "markdown",
   "metadata": {},
   "source": [
    "## Utility functions to help code the encoder/decoder"
   ]
  },
  {
   "cell_type": "code",
   "execution_count": 101,
   "metadata": {},
   "outputs": [],
   "source": [
    "# Computes the value of the Q-Function\n",
    "def q_function(x):\n",
    "    return (1/2) * sp.erfc(x/np.sqrt(2))\n",
    "\n",
    "# Gets every possible codeword lengths for which the length divides the total length of the original bitstring\n",
    "def compute_codeword_lengths(bit_str):\n",
    "    n = len(bit_str)\n",
    "    return [i for i in range(1, n+1) if n % i == 0]\n",
    "\n",
    "# Gets the whole alphabet from a codeword length\n",
    "def get_alphabet_from_codeword_length(length):\n",
    "    return [f'{i:0{length}b}' for i in range(0, 2**length)]\n",
    "\n",
    "# Performs a conversion from ASCII string to binary symbols\n",
    "def ascii_str_to_binary(ascii_str):\n",
    "    return str(''.join(format(ord(i), '08b') for i in ascii_str))\n",
    "\n",
    "def split_bit_str(bit_str, chunk_size):\n",
    "    return [bit_str[i:i+chunk_size] for i in range(0, len(bit_str), chunk_size)]\n",
    "\n",
    "\n",
    "# # Gets the encoded alphabet\n",
    "# def encode_alphabet(energy_per_symbol, alphabet, encoder):\n",
    "#     return [encoder(energy_per_symbol, i, alphabet) for i in alphabet]\n"
   ]
  },
  {
   "cell_type": "markdown",
   "metadata": {},
   "source": [
    "## Functions for the types of encodings"
   ]
  },
  {
   "cell_type": "markdown",
   "metadata": {},
   "source": [
    "### m-PSK"
   ]
  },
  {
   "cell_type": "code",
   "execution_count": 102,
   "metadata": {},
   "outputs": [],
   "source": [
    "# Computes the probability of error for symbol i with PSK encoding (P_e(i) == P_e here !)\n",
    "def error_m_psk(i, m, energy_per_symbol, noise_var = 10**(-2.65)):\n",
    "    inner_part = lambda theta: np.exp(-(np.sin(np.pi/m)**2)**2 / np.sin(theta) * (energy_per_symbol/(2*(noise_var**2))))\n",
    "    return (1/np.pi) * sp.quad(inner_part, 0, np.pi - (np.pi / m))\n",
    "\n",
    "# Performs the m-PSK encoding\n",
    "def m_psk_encoder(energy_per_symbol, codeword, alphabet):\n",
    "    k = alphabet.index(codeword)\n",
    "    m = len(alphabet)\n",
    "    return np.sqrt(energy_per_symbol) * np.exp(2j * np.pi * (k/m))"
   ]
  },
  {
   "cell_type": "markdown",
   "metadata": {},
   "source": [
    "### QAM"
   ]
  },
  {
   "cell_type": "code",
   "execution_count": 103,
   "metadata": {},
   "outputs": [],
   "source": [
    "# Computes the probability of error for symbol i with QAM encoding (P_e(i) == P_e here !)\n",
    "def error_qam(i, d, m, energy_per_symbol, noise_var = 10**(-2.65)):\n",
    "    func = q_function(d/(2*noise_var))\n",
    "    return 2*func - func**2\n",
    "\n",
    "def qam_encoder(energy_per_symbol, codeword, alphabet):\n",
    "    return"
   ]
  },
  {
   "cell_type": "markdown",
   "metadata": {},
   "source": [
    "## Encoder part"
   ]
  },
  {
   "cell_type": "code",
   "execution_count": 104,
   "metadata": {},
   "outputs": [],
   "source": [
    "def encode_string(raw_str, chunk_size, energy_per_symbol, theta_estimator_batch_size, encoder):\n",
    "    if theta_estimator_batch_size >= 100:\n",
    "        raise OverflowError(\"ERROR: The batch of dummy samples cannot be equal or exceed 100 symbols.\") \n",
    "    bit_str = ascii_str_to_binary(raw_str)\n",
    "    splitted_bit_str = split_bit_str(bit_str, chunk_size)\n",
    "    splitted_bit_str_size = len(splitted_bit_str)\n",
    "    if splitted_bit_str_size > 100:\n",
    "        raise OverflowError(\"ERROR: The string without the dummy symbols cannot exceed 100 symbols.\") \n",
    "\n",
    "    if splitted_bit_str_size + theta_estimator_batch_size > 100:\n",
    "        theta_estimator_batch_size = 100 - splitted_bit_str_size\n",
    "\n",
    "    alphabet = get_alphabet_from_codeword_length(chunk_size)\n",
    "    theta_estimator_batch = np.full((theta_estimator_batch_size, 1), alphabet[0])\n",
    "    full_str = np.append(theta_estimator_batch, splitted_bit_str)\n",
    "    return np.array([encoder(energy_per_symbol, codeword, alphabet) for codeword in full_str])"
   ]
  },
  {
   "cell_type": "markdown",
   "metadata": {},
   "source": [
    "## Channel part (given)"
   ]
  },
  {
   "cell_type": "code",
   "execution_count": 105,
   "metadata": {},
   "outputs": [],
   "source": [
    "def channel(sent_signal):\n",
    "    s = np.mean(sent_signal**2)\n",
    "    if s <= 1:\n",
    "        s = 1\n",
    "    noise_power = (10**(-2.65))*s\n",
    "    shift = np.exp(-2j*np.pi*np.random.rand())\n",
    "    sent_signal = sent_signal*shift\n",
    "    noise_std = np.sqrt(noise_power/2)\n",
    "    rcv_signal = sent_signal + noise_std*np.random.randn(len(sent_signal)) + 1j*noise_std*np.random.randn(len(sent_signal))\n",
    "    return rcv_signal"
   ]
  },
  {
   "cell_type": "markdown",
   "metadata": {},
   "source": [
    "## Decoder part"
   ]
  },
  {
   "cell_type": "code",
   "execution_count": 106,
   "metadata": {},
   "outputs": [],
   "source": [
    "def decode_str(noisy_str, decoder, n_dummy_symbols):\n",
    "    dummy_symbols = noisy_str[0:n_dummy_symbols]\n",
    "    phase = np.mean(dummy_symbols) # TODO: CHECK HOW TO ISOLATE THE ANGLE FROM THE EXPONENTIAL IN THE EQUATION WITH THE MEAN\n",
    "    return"
   ]
  },
  {
   "cell_type": "markdown",
   "metadata": {},
   "source": [
    "## Putting everything together"
   ]
  },
  {
   "cell_type": "code",
   "execution_count": 120,
   "metadata": {},
   "outputs": [
    {
     "name": "stdout",
     "output_type": "stream",
     "text": [
      "[ 1.00000000e+00+0.00000000e+00j  1.00000000e+00+0.00000000e+00j\n",
      "  1.00000000e+00+0.00000000e+00j  1.00000000e+00+0.00000000e+00j\n",
      "  1.00000000e+00+0.00000000e+00j  1.00000000e+00+0.00000000e+00j\n",
      "  1.00000000e+00+0.00000000e+00j  1.00000000e+00+0.00000000e+00j\n",
      "  1.00000000e+00+0.00000000e+00j  1.00000000e+00+0.00000000e+00j\n",
      "  6.12323400e-17+1.00000000e+00j -1.00000000e+00+1.22464680e-16j\n",
      "  6.12323400e-17+1.00000000e+00j -3.82683432e-01+9.23879533e-01j\n",
      "  6.12323400e-17+1.00000000e+00j -1.83697020e-16-1.00000000e+00j\n",
      "  6.12323400e-17+1.00000000e+00j -1.83697020e-16-1.00000000e+00j\n",
      "  6.12323400e-17+1.00000000e+00j  9.23879533e-01-3.82683432e-01j]\n",
      "\n",
      "[-0.9813346 -0.16777551j -0.98938468-0.10853612j -0.97027074-0.1301299j\n",
      " -0.93415095-0.15800788j -0.95166489-0.10176881j -1.00556621-0.09023228j\n",
      " -0.94787532-0.158045j   -1.01226152-0.14397991j -0.9660815 -0.18536501j\n",
      " -1.00734409-0.15639287j  0.07020618-1.05168376j  0.98647353+0.16796031j\n",
      "  0.19033574-0.96229249j  0.5371612 -0.84494657j  0.19694671-1.0292403j\n",
      " -0.14404894+0.9659315j   0.126216  -0.9939055j  -0.1563747 +0.99186675j\n",
      "  0.17533638-0.97011517j -0.94623431+0.24932695j]\n"
     ]
    }
   ],
   "source": [
    "try:\n",
    "    encoded_str = encode_string(\"HELLO\", 4, 1, 10, m_psk_encoder)\n",
    "    print(encoded_str)\n",
    "    print()\n",
    "    noisy_result = channel(encoded_str)\n",
    "    print(noisy_result)\n",
    "    # decoded_str = decode_str(decoder_str)\n",
    "    # print(decoded_str)\n",
    "except OverflowError as ovferr :\n",
    "    print(ovferr)\n",
    "    raise"
   ]
  }
 ],
 "metadata": {
  "interpreter": {
   "hash": "c6e4e9f98eb68ad3b7c296f83d20e6de614cb42e90992a65aa266555a3137d0d"
  },
  "kernelspec": {
   "display_name": "Python 3.9.10 ('base')",
   "language": "python",
   "name": "python3"
  },
  "language_info": {
   "codemirror_mode": {
    "name": "ipython",
    "version": 3
   },
   "file_extension": ".py",
   "mimetype": "text/x-python",
   "name": "python",
   "nbconvert_exporter": "python",
   "pygments_lexer": "ipython3",
   "version": "3.9.10"
  },
  "orig_nbformat": 4
 },
 "nbformat": 4,
 "nbformat_minor": 2
}
