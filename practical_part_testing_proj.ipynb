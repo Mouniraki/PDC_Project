{
 "cells": [
  {
   "cell_type": "markdown",
   "metadata": {},
   "source": [
    "# Code for practical part of PDC Project"
   ]
  },
  {
   "cell_type": "markdown",
   "metadata": {},
   "source": [
    "Hard limits to respect :\n",
    "- Codewords have to be in the space [-3/2, 3/2] x [-3/2, 3/2] -> **limits the energy per symbol**\n",
    "- The average energy of the vector **X** should be <= 1 -> **also limits the energy per symbol** \n",
    "- The dimension of the encoded vector **X** should not exceed n <= 100 -> **limits the number of symbols we can send**"
   ]
  },
  {
   "cell_type": "code",
   "execution_count": 100,
   "metadata": {},
   "outputs": [],
   "source": [
    "### IS THE ENERGY PER SYMBOL A HYPER-PARAMETER ???\n",
    "import numpy as np\n",
    "import scipy as sp"
   ]
  },
  {
   "cell_type": "markdown",
   "metadata": {},
   "source": [
    "## Utility functions to help code the encoder/decoder"
   ]
  },
  {
   "cell_type": "code",
   "execution_count": 101,
   "metadata": {},
   "outputs": [],
   "source": [
    "# Computes the value of the Q-Function\n",
    "def q_function(x):\n",
    "    return (1/2) * sp.erfc(x/np.sqrt(2))\n",
    "\n",
    "# Gets every possible codeword lengths for which the length divides the total length of the original bitstring\n",
    "def compute_codeword_lengths(bit_str):\n",
    "    n = len(bit_str)\n",
    "    return [i for i in range(1, n+1) if n % i == 0]\n",
    "\n",
    "# Gets the whole alphabet from a codeword length\n",
    "def get_alphabet_from_codeword_length(length):\n",
    "    return [f'{i:0{length}b}' for i in range(0, 2**length)]\n",
    "\n",
    "# Performs a conversion from ASCII string to binary symbols\n",
    "def ascii_str_to_binary(ascii_str):\n",
    "    return str(''.join(format(ord(i), '08b') for i in ascii_str))\n",
    "\n",
    "def split_bit_str(bit_str, chunk_size):\n",
    "    return [bit_str[i:i+chunk_size] for i in range(0, len(bit_str), chunk_size)]\n",
    "\n",
    "\n",
    "# # Gets the encoded alphabet\n",
    "# def encode_alphabet(energy_per_symbol, alphabet, encoder):\n",
    "#     return [encoder(energy_per_symbol, i, alphabet) for i in alphabet]\n"
   ]
  },
  {
   "cell_type": "markdown",
   "metadata": {},
   "source": [
    "## Functions for the types of encodings"
   ]
  },
  {
   "cell_type": "markdown",
   "metadata": {},
   "source": [
    "### m-PSK"
   ]
  },
  {
   "cell_type": "code",
   "execution_count": 102,
   "metadata": {},
   "outputs": [],
   "source": [
    "# Computes the probability of error for symbol i with PSK encoding (P_e(i) == P_e here !)\n",
    "def error_m_psk(i, m, energy_per_symbol, noise_var = 10**(-2.65)):\n",
    "    inner_part = lambda theta: np.exp(-(np.sin(np.pi/m)**2)**2 / np.sin(theta) * (energy_per_symbol/(2*(noise_var**2))))\n",
    "    return (1/np.pi) * sp.quad(inner_part, 0, np.pi - (np.pi / m))\n",
    "\n",
    "# Performs the m-PSK encoding\n",
    "def m_psk_encoder(energy_per_symbol, codeword, alphabet):\n",
    "    k = alphabet.index(codeword)\n",
    "    m = len(alphabet)\n",
    "    return np.sqrt(energy_per_symbol) * np.exp(2j * np.pi * (k/m))"
   ]
  },
  {
   "cell_type": "markdown",
   "metadata": {},
   "source": [
    "### QAM"
   ]
  },
  {
   "cell_type": "code",
   "execution_count": 103,
   "metadata": {},
   "outputs": [],
   "source": [
    "# Computes the probability of error for symbol i with QAM encoding (P_e(i) == P_e here !)\n",
    "def error_qam(i, d, m, energy_per_symbol, noise_var = 10**(-2.65)):\n",
    "    func = q_function(d/(2*noise_var))\n",
    "    return 2*func - func**2\n",
    "\n",
    "# Performs the QAM encoding\n",
    "def qam_encoder(energy_per_symbol, codeword, alphabet):\n",
    "    return"
   ]
  },
  {
   "cell_type": "markdown",
   "metadata": {},
   "source": [
    "## Encoder part"
   ]
  },
  {
   "cell_type": "code",
   "execution_count": 104,
   "metadata": {},
   "outputs": [],
   "source": [
    "def encode_string(raw_str, codeword_size, energy_per_symbol, theta_estimator_batch_size, encoder):\n",
    "    if theta_estimator_batch_size >= 100:\n",
    "        raise OverflowError(\"ERROR: The batch of dummy samples cannot be equal or exceed 100 symbols.\") \n",
    "    bit_str = ascii_str_to_binary(raw_str)\n",
    "    splitted_bit_str = split_bit_str(bit_str, codeword_size)\n",
    "    splitted_bit_str_size = len(splitted_bit_str)\n",
    "    if splitted_bit_str_size > 100:\n",
    "        raise OverflowError(\"ERROR: The string without the dummy symbols cannot exceed 100 symbols.\") \n",
    "\n",
    "    if splitted_bit_str_size + theta_estimator_batch_size > 100:\n",
    "        theta_estimator_batch_size = 100 - splitted_bit_str_size\n",
    "\n",
    "    alphabet = get_alphabet_from_codeword_length(codeword_size)\n",
    "    theta_estimator_batch = np.full((theta_estimator_batch_size, 1), alphabet[0])\n",
    "    full_str = np.append(theta_estimator_batch, splitted_bit_str)\n",
    "    return np.array([encoder(energy_per_symbol, codeword, alphabet) for codeword in full_str])"
   ]
  },
  {
   "cell_type": "markdown",
   "metadata": {},
   "source": [
    "## Channel part (given)"
   ]
  },
  {
   "cell_type": "code",
   "execution_count": 105,
   "metadata": {},
   "outputs": [],
   "source": [
    "def channel(sent_signal):\n",
    "    s = np.mean(sent_signal**2)\n",
    "    if s <= 1:\n",
    "        s = 1\n",
    "    noise_power = (10**(-2.65))*s\n",
    "    shift = np.exp(-2j*np.pi*np.random.rand())\n",
    "    sent_signal = sent_signal*shift\n",
    "    noise_std = np.sqrt(noise_power/2)\n",
    "    rcv_signal = sent_signal + noise_std*np.random.randn(len(sent_signal)) + 1j*noise_std*np.random.randn(len(sent_signal))\n",
    "    return rcv_signal"
   ]
  },
  {
   "cell_type": "markdown",
   "metadata": {},
   "source": [
    "## Decoder part"
   ]
  },
  {
   "cell_type": "code",
   "execution_count": 106,
   "metadata": {},
   "outputs": [],
   "source": [
    "def decode_str(noisy_str, decoder, n_dummy_symbols):\n",
    "    dummy_symbols = noisy_str[0:n_dummy_symbols]\n",
    "    phase = np.mean(dummy_symbols) # TODO: CHECK HOW TO ISOLATE THE ANGLE FROM THE EXPONENTIAL IN THE EQUATION WITH THE MEAN\n",
    "    return"
   ]
  },
  {
   "cell_type": "markdown",
   "metadata": {},
   "source": [
    "## Putting everything together"
   ]
  },
  {
   "cell_type": "code",
   "execution_count": 133,
   "metadata": {},
   "outputs": [
    {
     "name": "stdout",
     "output_type": "stream",
     "text": [
      "ERROR: The string without the dummy symbols cannot exceed 100 symbols.\n"
     ]
    },
    {
     "ename": "OverflowError",
     "evalue": "ERROR: The string without the dummy symbols cannot exceed 100 symbols.",
     "output_type": "error",
     "traceback": [
      "\u001b[0;31m---------------------------------------------------------------------------\u001b[0m",
      "\u001b[0;31mOverflowError\u001b[0m                             Traceback (most recent call last)",
      "\u001b[1;32m/Users/mouniraki/Documents/PDC/project/practical_part_testing_proj.ipynb Cell 18'\u001b[0m in \u001b[0;36m<cell line: 1>\u001b[0;34m()\u001b[0m\n\u001b[1;32m      <a href='vscode-notebook-cell:/Users/mouniraki/Documents/PDC/project/practical_part_testing_proj.ipynb#ch0000017?line=0'>1</a>\u001b[0m \u001b[39mtry\u001b[39;00m:\n\u001b[0;32m----> <a href='vscode-notebook-cell:/Users/mouniraki/Documents/PDC/project/practical_part_testing_proj.ipynb#ch0000017?line=1'>2</a>\u001b[0m     encoded_str \u001b[39m=\u001b[39m encode_string(\u001b[39m\"\u001b[39;49m\u001b[39mHELLOWORLDMYLOVEWHATTHEHELL\u001b[39;49m\u001b[39m\"\u001b[39;49m, \u001b[39m2\u001b[39;49m, \u001b[39m1\u001b[39;49m, \u001b[39m95\u001b[39;49m, m_psk_encoder)\n\u001b[1;32m      <a href='vscode-notebook-cell:/Users/mouniraki/Documents/PDC/project/practical_part_testing_proj.ipynb#ch0000017?line=2'>3</a>\u001b[0m     \u001b[39m# decoded_str = decode_str(decoder_str)\u001b[39;00m\n\u001b[1;32m      <a href='vscode-notebook-cell:/Users/mouniraki/Documents/PDC/project/practical_part_testing_proj.ipynb#ch0000017?line=3'>4</a>\u001b[0m     \u001b[39m# print(decoded_str)\u001b[39;00m\n\u001b[1;32m      <a href='vscode-notebook-cell:/Users/mouniraki/Documents/PDC/project/practical_part_testing_proj.ipynb#ch0000017?line=4'>5</a>\u001b[0m \u001b[39mexcept\u001b[39;00m \u001b[39mOverflowError\u001b[39;00m \u001b[39mas\u001b[39;00m ovferr :\n",
      "\u001b[1;32m/Users/mouniraki/Documents/PDC/project/practical_part_testing_proj.ipynb Cell 12'\u001b[0m in \u001b[0;36mencode_string\u001b[0;34m(raw_str, chunk_size, energy_per_symbol, theta_estimator_batch_size, encoder)\u001b[0m\n\u001b[1;32m      <a href='vscode-notebook-cell:/Users/mouniraki/Documents/PDC/project/practical_part_testing_proj.ipynb#ch0000011?line=5'>6</a>\u001b[0m splitted_bit_str_size \u001b[39m=\u001b[39m \u001b[39mlen\u001b[39m(splitted_bit_str)\n\u001b[1;32m      <a href='vscode-notebook-cell:/Users/mouniraki/Documents/PDC/project/practical_part_testing_proj.ipynb#ch0000011?line=6'>7</a>\u001b[0m \u001b[39mif\u001b[39;00m splitted_bit_str_size \u001b[39m>\u001b[39m \u001b[39m100\u001b[39m:\n\u001b[0;32m----> <a href='vscode-notebook-cell:/Users/mouniraki/Documents/PDC/project/practical_part_testing_proj.ipynb#ch0000011?line=7'>8</a>\u001b[0m     \u001b[39mraise\u001b[39;00m \u001b[39mOverflowError\u001b[39;00m(\u001b[39m\"\u001b[39m\u001b[39mERROR: The string without the dummy symbols cannot exceed 100 symbols.\u001b[39m\u001b[39m\"\u001b[39m) \n\u001b[1;32m     <a href='vscode-notebook-cell:/Users/mouniraki/Documents/PDC/project/practical_part_testing_proj.ipynb#ch0000011?line=9'>10</a>\u001b[0m \u001b[39mif\u001b[39;00m splitted_bit_str_size \u001b[39m+\u001b[39m theta_estimator_batch_size \u001b[39m>\u001b[39m \u001b[39m100\u001b[39m:\n\u001b[1;32m     <a href='vscode-notebook-cell:/Users/mouniraki/Documents/PDC/project/practical_part_testing_proj.ipynb#ch0000011?line=10'>11</a>\u001b[0m     theta_estimator_batch_size \u001b[39m=\u001b[39m \u001b[39m100\u001b[39m \u001b[39m-\u001b[39m splitted_bit_str_size\n",
      "\u001b[0;31mOverflowError\u001b[0m: ERROR: The string without the dummy symbols cannot exceed 100 symbols."
     ]
    }
   ],
   "source": [
    "try:\n",
    "    encoded_str = encode_string(\"PUTYOURSTRINGHERE\", codeword_size = 2, energy_per_symbol = 1, theta_estimator_batch_size = 95, encoder = m_psk_encoder)\n",
    "    # decoded_str = decode_str(decoder_str)\n",
    "    # print(decoded_str)\n",
    "except OverflowError as ovferr :\n",
    "    print(ovferr)\n",
    "    raise\n",
    "else:\n",
    "    print(encoded_str)\n",
    "    print()\n",
    "    noisy_result = channel(encoded_str)\n",
    "    print(noisy_result)\n"
   ]
  }
 ],
 "metadata": {
  "interpreter": {
   "hash": "c6e4e9f98eb68ad3b7c296f83d20e6de614cb42e90992a65aa266555a3137d0d"
  },
  "kernelspec": {
   "display_name": "Python 3.9.10 ('base')",
   "language": "python",
   "name": "python3"
  },
  "language_info": {
   "codemirror_mode": {
    "name": "ipython",
    "version": 3
   },
   "file_extension": ".py",
   "mimetype": "text/x-python",
   "name": "python",
   "nbconvert_exporter": "python",
   "pygments_lexer": "ipython3",
   "version": "3.9.10"
  },
  "orig_nbformat": 4
 },
 "nbformat": 4,
 "nbformat_minor": 2
}
